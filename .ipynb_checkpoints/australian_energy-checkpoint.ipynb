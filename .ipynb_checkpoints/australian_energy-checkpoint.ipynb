{
 "cells": [
  {
   "cell_type": "code",
   "execution_count": 226,
   "id": "2320599e",
   "metadata": {},
   "outputs": [],
   "source": [
    "# Import dependencies and setup\n",
    "\n",
    "import pandas as pd\n",
    "import matplotlib.pyplot as plt\n",
    "import matplotlib as matplotlib\n",
    "import matplotlib.dates as matplotlibdates\n",
    "# import datetime\n",
    "# from matplotlib.dates import date2num"
   ]
  },
  {
   "cell_type": "code",
   "execution_count": 227,
   "id": "e852d7ab",
   "metadata": {},
   "outputs": [],
   "source": [
    "# Read each dataset and store as DataFrame\n",
    "\n",
    "elec_gen_fuel_type_path = \"Resources/electricity_generation_fuel_type_state_territory.csv\"\n",
    "elec_fuel_df = pd.read_csv(elec_gen_fuel_type_path)\n",
    "\n",
    "elec_gen_sector_path = \"Resources/electricity_generation_sector_state_territory.csv\"\n",
    "elec_sector_df = pd.read_csv(elec_gen_sector_path)\n",
    "\n",
    "energy_balance_path = \"Resources/energy_balance.csv\"\n",
    "energy_balance_df = pd.read_csv(energy_balance_path)\n",
    "\n",
    "energy_CIP_path = \"Resources/energy_consumption_intensity_productivity.csv\"\n",
    "energy_CIP_df = pd.read_csv(energy_CIP_path)\n",
    "\n",
    "energy_usage_path = \"Resources/energy_use_state_territory.csv\"\n",
    "energy_usage_df = pd.read_csv(energy_usage_path)\n",
    "\n",
    "exports_path = \"Resources/exports_2019-2020.csv\"\n",
    "exports_df = pd.read_csv(exports_path)\n",
    "\n",
    "fossil_fuels_path = \"Resources/fossil_fuels.csv\"\n",
    "fossil_fuels_df = pd.read_csv(fossil_fuels_path)\n",
    "\n",
    "imports_path = \"Resources/imports_2019-2020.csv\"\n",
    "imports_df = pd.read_csv(imports_path)\n",
    "\n",
    "renewables_path = \"Resources/renewables.csv\"\n",
    "renewables_df = pd.read_csv(renewables_path)"
   ]
  },
  {
   "cell_type": "code",
   "execution_count": 228,
   "id": "1a93ad0d",
   "metadata": {},
   "outputs": [
    {
     "data": {
      "text/html": [
       "<div>\n",
       "<style scoped>\n",
       "    .dataframe tbody tr th:only-of-type {\n",
       "        vertical-align: middle;\n",
       "    }\n",
       "\n",
       "    .dataframe tbody tr th {\n",
       "        vertical-align: top;\n",
       "    }\n",
       "\n",
       "    .dataframe thead th {\n",
       "        text-align: right;\n",
       "    }\n",
       "</style>\n",
       "<table border=\"1\" class=\"dataframe\">\n",
       "  <thead>\n",
       "    <tr style=\"text-align: right;\">\n",
       "      <th></th>\n",
       "      <th>State</th>\n",
       "      <th>Coal</th>\n",
       "      <th>Natural Gas</th>\n",
       "      <th>Oil</th>\n",
       "      <th>Hydro</th>\n",
       "      <th>Other Renewables</th>\n",
       "    </tr>\n",
       "  </thead>\n",
       "  <tbody>\n",
       "    <tr>\n",
       "      <th>0</th>\n",
       "      <td>NSW</td>\n",
       "      <td>75.60%</td>\n",
       "      <td>2.80%</td>\n",
       "      <td>0.50%</td>\n",
       "      <td>3.50%</td>\n",
       "      <td>17.70%</td>\n",
       "    </tr>\n",
       "    <tr>\n",
       "      <th>1</th>\n",
       "      <td>VIC</td>\n",
       "      <td>67.70%</td>\n",
       "      <td>4.50%</td>\n",
       "      <td>0.40%</td>\n",
       "      <td>4.90%</td>\n",
       "      <td>22.50%</td>\n",
       "    </tr>\n",
       "    <tr>\n",
       "      <th>2</th>\n",
       "      <td>QLD</td>\n",
       "      <td>66.50%</td>\n",
       "      <td>16.30%</td>\n",
       "      <td>1.40%</td>\n",
       "      <td>0.90%</td>\n",
       "      <td>14.90%</td>\n",
       "    </tr>\n",
       "    <tr>\n",
       "      <th>3</th>\n",
       "      <td>WA</td>\n",
       "      <td>21.10%</td>\n",
       "      <td>61.70%</td>\n",
       "      <td>5.30%</td>\n",
       "      <td>0.40%</td>\n",
       "      <td>11.50%</td>\n",
       "    </tr>\n",
       "    <tr>\n",
       "      <th>4</th>\n",
       "      <td>SA</td>\n",
       "      <td>0.00%</td>\n",
       "      <td>40.80%</td>\n",
       "      <td>1.00%</td>\n",
       "      <td>0.10%</td>\n",
       "      <td>58.10%</td>\n",
       "    </tr>\n",
       "  </tbody>\n",
       "</table>\n",
       "</div>"
      ],
      "text/plain": [
       "  State    Coal Natural Gas    Oil  Hydro Other Renewables\n",
       "0   NSW  75.60%       2.80%  0.50%  3.50%           17.70%\n",
       "1   VIC  67.70%       4.50%  0.40%  4.90%           22.50%\n",
       "2   QLD  66.50%      16.30%  1.40%  0.90%           14.90%\n",
       "3    WA  21.10%      61.70%  5.30%  0.40%           11.50%\n",
       "4    SA   0.00%      40.80%  1.00%  0.10%           58.10%"
      ]
     },
     "execution_count": 228,
     "metadata": {},
     "output_type": "execute_result"
    }
   ],
   "source": [
    "# Preview elec_fuel_df\n",
    "\n",
    "elec_fuel_df.head()\n",
    "elec_fuel_df = elec_fuel_df.dropna(axis=1, how='all')\n",
    "elec_fuel_df.head()"
   ]
  },
  {
   "cell_type": "code",
   "execution_count": 229,
   "id": "bdf0a8f9",
   "metadata": {},
   "outputs": [
    {
     "data": {
      "text/html": [
       "<div>\n",
       "<style scoped>\n",
       "    .dataframe tbody tr th:only-of-type {\n",
       "        vertical-align: middle;\n",
       "    }\n",
       "\n",
       "    .dataframe tbody tr th {\n",
       "        vertical-align: top;\n",
       "    }\n",
       "\n",
       "    .dataframe thead th {\n",
       "        text-align: right;\n",
       "    }\n",
       "</style>\n",
       "<table border=\"1\" class=\"dataframe\">\n",
       "  <thead>\n",
       "    <tr style=\"text-align: right;\">\n",
       "      <th></th>\n",
       "      <th>State</th>\n",
       "      <th>Electricity Sector</th>\n",
       "      <th>Mining and Manufacturing</th>\n",
       "      <th>Other Industries</th>\n",
       "    </tr>\n",
       "  </thead>\n",
       "  <tbody>\n",
       "    <tr>\n",
       "      <th>0</th>\n",
       "      <td>NSW</td>\n",
       "      <td>94%</td>\n",
       "      <td>1%</td>\n",
       "      <td>5%</td>\n",
       "    </tr>\n",
       "    <tr>\n",
       "      <th>1</th>\n",
       "      <td>VIC</td>\n",
       "      <td>92%</td>\n",
       "      <td>2%</td>\n",
       "      <td>6%</td>\n",
       "    </tr>\n",
       "    <tr>\n",
       "      <th>2</th>\n",
       "      <td>QLD</td>\n",
       "      <td>87%</td>\n",
       "      <td>6%</td>\n",
       "      <td>7%</td>\n",
       "    </tr>\n",
       "    <tr>\n",
       "      <th>3</th>\n",
       "      <td>WA</td>\n",
       "      <td>57%</td>\n",
       "      <td>39%</td>\n",
       "      <td>5%</td>\n",
       "    </tr>\n",
       "    <tr>\n",
       "      <th>4</th>\n",
       "      <td>SA</td>\n",
       "      <td>85%</td>\n",
       "      <td>3%</td>\n",
       "      <td>12%</td>\n",
       "    </tr>\n",
       "  </tbody>\n",
       "</table>\n",
       "</div>"
      ],
      "text/plain": [
       "  State Electricity Sector Mining and Manufacturing Other Industries\n",
       "0   NSW                94%                       1%               5%\n",
       "1   VIC                92%                       2%               6%\n",
       "2   QLD                87%                       6%               7%\n",
       "3    WA                57%                      39%               5%\n",
       "4    SA                85%                       3%              12%"
      ]
     },
     "execution_count": 229,
     "metadata": {},
     "output_type": "execute_result"
    }
   ],
   "source": [
    "# Preview elec_sector_df\n",
    "\n",
    "elec_sector_df.head()"
   ]
  },
  {
   "cell_type": "code",
   "execution_count": 230,
   "id": "997cddc8",
   "metadata": {},
   "outputs": [
    {
     "data": {
      "text/html": [
       "<div>\n",
       "<style scoped>\n",
       "    .dataframe tbody tr th:only-of-type {\n",
       "        vertical-align: middle;\n",
       "    }\n",
       "\n",
       "    .dataframe tbody tr th {\n",
       "        vertical-align: top;\n",
       "    }\n",
       "\n",
       "    .dataframe thead th {\n",
       "        text-align: right;\n",
       "    }\n",
       "</style>\n",
       "<table border=\"1\" class=\"dataframe\">\n",
       "  <thead>\n",
       "    <tr style=\"text-align: right;\">\n",
       "      <th></th>\n",
       "      <th>Year</th>\n",
       "      <th>Production</th>\n",
       "      <th>Consumption</th>\n",
       "      <th>Net Exports</th>\n",
       "      <th>Yearly Total</th>\n",
       "    </tr>\n",
       "  </thead>\n",
       "  <tbody>\n",
       "    <tr>\n",
       "      <th>0</th>\n",
       "      <td>1979–80</td>\n",
       "      <td>3802.7</td>\n",
       "      <td>3131.4</td>\n",
       "      <td>803.7</td>\n",
       "      <td>7737.8</td>\n",
       "    </tr>\n",
       "    <tr>\n",
       "      <th>1</th>\n",
       "      <td>1980–81</td>\n",
       "      <td>4193.8</td>\n",
       "      <td>3146.3</td>\n",
       "      <td>937.3</td>\n",
       "      <td>8277.4</td>\n",
       "    </tr>\n",
       "    <tr>\n",
       "      <th>2</th>\n",
       "      <td>1981–82</td>\n",
       "      <td>4380.8</td>\n",
       "      <td>3237.6</td>\n",
       "      <td>922.2</td>\n",
       "      <td>8540.6</td>\n",
       "    </tr>\n",
       "    <tr>\n",
       "      <th>3</th>\n",
       "      <td>1982–83</td>\n",
       "      <td>4552.8</td>\n",
       "      <td>3122.7</td>\n",
       "      <td>1208.1</td>\n",
       "      <td>8883.6</td>\n",
       "    </tr>\n",
       "    <tr>\n",
       "      <th>4</th>\n",
       "      <td>1983–84</td>\n",
       "      <td>4911.2</td>\n",
       "      <td>3221.2</td>\n",
       "      <td>1712.1</td>\n",
       "      <td>9844.5</td>\n",
       "    </tr>\n",
       "  </tbody>\n",
       "</table>\n",
       "</div>"
      ],
      "text/plain": [
       "      Year  Production  Consumption  Net Exports  Yearly Total\n",
       "0  1979–80      3802.7       3131.4        803.7        7737.8\n",
       "1  1980–81      4193.8       3146.3        937.3        8277.4\n",
       "2  1981–82      4380.8       3237.6        922.2        8540.6\n",
       "3  1982–83      4552.8       3122.7       1208.1        8883.6\n",
       "4  1983–84      4911.2       3221.2       1712.1        9844.5"
      ]
     },
     "execution_count": 230,
     "metadata": {},
     "output_type": "execute_result"
    }
   ],
   "source": [
    "# Preview energy_balance_df\n",
    "\n",
    "energy_balance_df.head()"
   ]
  },
  {
   "cell_type": "code",
   "execution_count": 231,
   "id": "7d011cb7",
   "metadata": {},
   "outputs": [
    {
     "data": {
      "text/html": [
       "<div>\n",
       "<style scoped>\n",
       "    .dataframe tbody tr th:only-of-type {\n",
       "        vertical-align: middle;\n",
       "    }\n",
       "\n",
       "    .dataframe tbody tr th {\n",
       "        vertical-align: top;\n",
       "    }\n",
       "\n",
       "    .dataframe thead th {\n",
       "        text-align: right;\n",
       "    }\n",
       "</style>\n",
       "<table border=\"1\" class=\"dataframe\">\n",
       "  <thead>\n",
       "    <tr style=\"text-align: right;\">\n",
       "      <th></th>\n",
       "      <th>Year</th>\n",
       "      <th>GDP</th>\n",
       "      <th>Energy Consumption</th>\n",
       "      <th>Energy Intensity</th>\n",
       "      <th>Energy Productivity</th>\n",
       "    </tr>\n",
       "  </thead>\n",
       "  <tbody>\n",
       "    <tr>\n",
       "      <th>0</th>\n",
       "      <td>1979–80</td>\n",
       "      <td>100</td>\n",
       "      <td>100</td>\n",
       "      <td>100</td>\n",
       "      <td>100</td>\n",
       "    </tr>\n",
       "    <tr>\n",
       "      <th>1</th>\n",
       "      <td>1980–81</td>\n",
       "      <td>103</td>\n",
       "      <td>101</td>\n",
       "      <td>97</td>\n",
       "      <td>103</td>\n",
       "    </tr>\n",
       "    <tr>\n",
       "      <th>2</th>\n",
       "      <td>1981–82</td>\n",
       "      <td>107</td>\n",
       "      <td>103</td>\n",
       "      <td>97</td>\n",
       "      <td>103</td>\n",
       "    </tr>\n",
       "    <tr>\n",
       "      <th>3</th>\n",
       "      <td>1982–83</td>\n",
       "      <td>104</td>\n",
       "      <td>100</td>\n",
       "      <td>96</td>\n",
       "      <td>105</td>\n",
       "    </tr>\n",
       "    <tr>\n",
       "      <th>4</th>\n",
       "      <td>1983–84</td>\n",
       "      <td>109</td>\n",
       "      <td>103</td>\n",
       "      <td>94</td>\n",
       "      <td>106</td>\n",
       "    </tr>\n",
       "  </tbody>\n",
       "</table>\n",
       "</div>"
      ],
      "text/plain": [
       "      Year  GDP  Energy Consumption  Energy Intensity  Energy Productivity\n",
       "0  1979–80  100                 100               100                  100\n",
       "1  1980–81  103                 101                97                  103\n",
       "2  1981–82  107                 103                97                  103\n",
       "3  1982–83  104                 100                96                  105\n",
       "4  1983–84  109                 103                94                  106"
      ]
     },
     "execution_count": 231,
     "metadata": {},
     "output_type": "execute_result"
    }
   ],
   "source": [
    "# Preview energy_CIP_df\n",
    "\n",
    "energy_CIP_df.head()\n",
    "energy_CIP_df = energy_CIP_df.dropna(axis=1, how='all')\n",
    "energy_CIP_df.head()"
   ]
  },
  {
   "cell_type": "code",
   "execution_count": 232,
   "id": "ad69130f",
   "metadata": {},
   "outputs": [
    {
     "data": {
      "text/html": [
       "<div>\n",
       "<style scoped>\n",
       "    .dataframe tbody tr th:only-of-type {\n",
       "        vertical-align: middle;\n",
       "    }\n",
       "\n",
       "    .dataframe tbody tr th {\n",
       "        vertical-align: top;\n",
       "    }\n",
       "\n",
       "    .dataframe thead th {\n",
       "        text-align: right;\n",
       "    }\n",
       "</style>\n",
       "<table border=\"1\" class=\"dataframe\">\n",
       "  <thead>\n",
       "    <tr style=\"text-align: right;\">\n",
       "      <th></th>\n",
       "      <th>Source</th>\n",
       "      <th>Amount (PJ)</th>\n",
       "    </tr>\n",
       "  </thead>\n",
       "  <tbody>\n",
       "    <tr>\n",
       "      <th>0</th>\n",
       "      <td>Coal</td>\n",
       "      <td>11088</td>\n",
       "    </tr>\n",
       "    <tr>\n",
       "      <th>1</th>\n",
       "      <td>Natural gas</td>\n",
       "      <td>4393</td>\n",
       "    </tr>\n",
       "    <tr>\n",
       "      <th>2</th>\n",
       "      <td>Crude oil and ORF</td>\n",
       "      <td>626</td>\n",
       "    </tr>\n",
       "    <tr>\n",
       "      <th>3</th>\n",
       "      <td>LPG</td>\n",
       "      <td>141</td>\n",
       "    </tr>\n",
       "    <tr>\n",
       "      <th>4</th>\n",
       "      <td>Refind products</td>\n",
       "      <td>42</td>\n",
       "    </tr>\n",
       "  </tbody>\n",
       "</table>\n",
       "</div>"
      ],
      "text/plain": [
       "              Source  Amount (PJ)\n",
       "0               Coal        11088\n",
       "1        Natural gas         4393\n",
       "2  Crude oil and ORF          626\n",
       "3                LPG          141\n",
       "4    Refind products           42"
      ]
     },
     "execution_count": 232,
     "metadata": {},
     "output_type": "execute_result"
    }
   ],
   "source": [
    "# Preview exports_df\n",
    "\n",
    "exports_df.head()"
   ]
  },
  {
   "cell_type": "code",
   "execution_count": 233,
   "id": "2254552c",
   "metadata": {},
   "outputs": [
    {
     "data": {
      "text/html": [
       "<div>\n",
       "<style scoped>\n",
       "    .dataframe tbody tr th:only-of-type {\n",
       "        vertical-align: middle;\n",
       "    }\n",
       "\n",
       "    .dataframe tbody tr th {\n",
       "        vertical-align: top;\n",
       "    }\n",
       "\n",
       "    .dataframe thead th {\n",
       "        text-align: right;\n",
       "    }\n",
       "</style>\n",
       "<table border=\"1\" class=\"dataframe\">\n",
       "  <thead>\n",
       "    <tr style=\"text-align: right;\">\n",
       "      <th></th>\n",
       "      <th>Year</th>\n",
       "      <th>Coal</th>\n",
       "      <th>Oil</th>\n",
       "      <th>Gas</th>\n",
       "      <th>Renewables</th>\n",
       "      <th>Yearly Totals</th>\n",
       "    </tr>\n",
       "  </thead>\n",
       "  <tbody>\n",
       "    <tr>\n",
       "      <th>0</th>\n",
       "      <td>1974–75</td>\n",
       "      <td>981.1</td>\n",
       "      <td>1327.7</td>\n",
       "      <td>189.2</td>\n",
       "      <td>204.0</td>\n",
       "      <td>2498.0</td>\n",
       "    </tr>\n",
       "    <tr>\n",
       "      <th>1</th>\n",
       "      <td>1975–76</td>\n",
       "      <td>981.2</td>\n",
       "      <td>1339.7</td>\n",
       "      <td>211.2</td>\n",
       "      <td>206.2</td>\n",
       "      <td>2532.1</td>\n",
       "    </tr>\n",
       "    <tr>\n",
       "      <th>2</th>\n",
       "      <td>1976–77</td>\n",
       "      <td>1047.7</td>\n",
       "      <td>1410.6</td>\n",
       "      <td>256.2</td>\n",
       "      <td>199.3</td>\n",
       "      <td>2714.5</td>\n",
       "    </tr>\n",
       "    <tr>\n",
       "      <th>3</th>\n",
       "      <td>1977–78</td>\n",
       "      <td>1070.4</td>\n",
       "      <td>1438.3</td>\n",
       "      <td>283.0</td>\n",
       "      <td>201.2</td>\n",
       "      <td>2791.7</td>\n",
       "    </tr>\n",
       "    <tr>\n",
       "      <th>4</th>\n",
       "      <td>1978–79</td>\n",
       "      <td>1103.0</td>\n",
       "      <td>1440.9</td>\n",
       "      <td>314.9</td>\n",
       "      <td>199.6</td>\n",
       "      <td>2858.8</td>\n",
       "    </tr>\n",
       "  </tbody>\n",
       "</table>\n",
       "</div>"
      ],
      "text/plain": [
       "      Year    Coal     Oil    Gas  Renewables  Yearly Totals\n",
       "0  1974–75   981.1  1327.7  189.2       204.0         2498.0\n",
       "1  1975–76   981.2  1339.7  211.2       206.2         2532.1\n",
       "2  1976–77  1047.7  1410.6  256.2       199.3         2714.5\n",
       "3  1977–78  1070.4  1438.3  283.0       201.2         2791.7\n",
       "4  1978–79  1103.0  1440.9  314.9       199.6         2858.8"
      ]
     },
     "execution_count": 233,
     "metadata": {},
     "output_type": "execute_result"
    }
   ],
   "source": [
    "# Preview fossil_fuels_df\n",
    "\n",
    "fossil_fuels_df.head()"
   ]
  },
  {
   "cell_type": "code",
   "execution_count": 234,
   "id": "2a88c246",
   "metadata": {},
   "outputs": [
    {
     "data": {
      "text/html": [
       "<div>\n",
       "<style scoped>\n",
       "    .dataframe tbody tr th:only-of-type {\n",
       "        vertical-align: middle;\n",
       "    }\n",
       "\n",
       "    .dataframe tbody tr th {\n",
       "        vertical-align: top;\n",
       "    }\n",
       "\n",
       "    .dataframe thead th {\n",
       "        text-align: right;\n",
       "    }\n",
       "</style>\n",
       "<table border=\"1\" class=\"dataframe\">\n",
       "  <thead>\n",
       "    <tr style=\"text-align: right;\">\n",
       "      <th></th>\n",
       "      <th>Source</th>\n",
       "      <th>Amount (PJ)</th>\n",
       "    </tr>\n",
       "  </thead>\n",
       "  <tbody>\n",
       "    <tr>\n",
       "      <th>0</th>\n",
       "      <td>Refind products</td>\n",
       "      <td>1328</td>\n",
       "    </tr>\n",
       "    <tr>\n",
       "      <th>1</th>\n",
       "      <td>Crude oil and ORF</td>\n",
       "      <td>696</td>\n",
       "    </tr>\n",
       "    <tr>\n",
       "      <th>2</th>\n",
       "      <td>LPG</td>\n",
       "      <td>21</td>\n",
       "    </tr>\n",
       "    <tr>\n",
       "      <th>3</th>\n",
       "      <td>Natural gas</td>\n",
       "      <td>180</td>\n",
       "    </tr>\n",
       "    <tr>\n",
       "      <th>4</th>\n",
       "      <td>Coal and by-products</td>\n",
       "      <td>19</td>\n",
       "    </tr>\n",
       "  </tbody>\n",
       "</table>\n",
       "</div>"
      ],
      "text/plain": [
       "                 Source  Amount (PJ)\n",
       "0       Refind products         1328\n",
       "1     Crude oil and ORF          696\n",
       "2                   LPG           21\n",
       "3           Natural gas          180\n",
       "4  Coal and by-products           19"
      ]
     },
     "execution_count": 234,
     "metadata": {},
     "output_type": "execute_result"
    }
   ],
   "source": [
    "# Preview imports_df\n",
    "\n",
    "imports_df.head()"
   ]
  },
  {
   "cell_type": "code",
   "execution_count": 235,
   "id": "d6892393",
   "metadata": {},
   "outputs": [
    {
     "data": {
      "text/html": [
       "<div>\n",
       "<style scoped>\n",
       "    .dataframe tbody tr th:only-of-type {\n",
       "        vertical-align: middle;\n",
       "    }\n",
       "\n",
       "    .dataframe tbody tr th {\n",
       "        vertical-align: top;\n",
       "    }\n",
       "\n",
       "    .dataframe thead th {\n",
       "        text-align: right;\n",
       "    }\n",
       "</style>\n",
       "<table border=\"1\" class=\"dataframe\">\n",
       "  <thead>\n",
       "    <tr style=\"text-align: right;\">\n",
       "      <th></th>\n",
       "      <th>Year</th>\n",
       "      <th>Hydro</th>\n",
       "      <th>Wind</th>\n",
       "      <th>Bioenergy</th>\n",
       "      <th>Solar</th>\n",
       "      <th>Yearly Totals</th>\n",
       "    </tr>\n",
       "  </thead>\n",
       "  <tbody>\n",
       "    <tr>\n",
       "      <th>0</th>\n",
       "      <td>1994–95</td>\n",
       "      <td>16239</td>\n",
       "      <td>7</td>\n",
       "      <td>723</td>\n",
       "      <td>19</td>\n",
       "      <td>16969</td>\n",
       "    </tr>\n",
       "    <tr>\n",
       "      <th>1</th>\n",
       "      <td>1995–96</td>\n",
       "      <td>15731</td>\n",
       "      <td>7</td>\n",
       "      <td>928</td>\n",
       "      <td>23</td>\n",
       "      <td>16666</td>\n",
       "    </tr>\n",
       "    <tr>\n",
       "      <th>2</th>\n",
       "      <td>1996–97</td>\n",
       "      <td>16852</td>\n",
       "      <td>7</td>\n",
       "      <td>965</td>\n",
       "      <td>28</td>\n",
       "      <td>17824</td>\n",
       "    </tr>\n",
       "    <tr>\n",
       "      <th>3</th>\n",
       "      <td>1997–98</td>\n",
       "      <td>15733</td>\n",
       "      <td>8</td>\n",
       "      <td>1029</td>\n",
       "      <td>34</td>\n",
       "      <td>16770</td>\n",
       "    </tr>\n",
       "    <tr>\n",
       "      <th>4</th>\n",
       "      <td>1998–99</td>\n",
       "      <td>16563</td>\n",
       "      <td>28</td>\n",
       "      <td>1133</td>\n",
       "      <td>38</td>\n",
       "      <td>17724</td>\n",
       "    </tr>\n",
       "  </tbody>\n",
       "</table>\n",
       "</div>"
      ],
      "text/plain": [
       "      Year  Hydro  Wind  Bioenergy  Solar  Yearly Totals\n",
       "0  1994–95  16239     7        723     19          16969\n",
       "1  1995–96  15731     7        928     23          16666\n",
       "2  1996–97  16852     7        965     28          17824\n",
       "3  1997–98  15733     8       1029     34          16770\n",
       "4  1998–99  16563    28       1133     38          17724"
      ]
     },
     "execution_count": 235,
     "metadata": {},
     "output_type": "execute_result"
    }
   ],
   "source": [
    "# Preview renewables_df\n",
    "\n",
    "renewables_df.head()"
   ]
  },
  {
   "cell_type": "code",
   "execution_count": 236,
   "id": "b0b74aba",
   "metadata": {},
   "outputs": [
    {
     "data": {
      "text/plain": [
       "433338.49999999994"
      ]
     },
     "execution_count": 236,
     "metadata": {},
     "output_type": "execute_result"
    }
   ],
   "source": [
    "# Statistical analysis – energy_balance_df\n",
    "# Calculate 'Production' total\n",
    "\n",
    "energy_balance_prod_total = energy_balance_df['Production'].sum()\n",
    "energy_balance_prod_total"
   ]
  },
  {
   "cell_type": "code",
   "execution_count": 237,
   "id": "8ca289d8",
   "metadata": {},
   "outputs": [
    {
     "data": {
      "text/plain": [
       "196544.8"
      ]
     },
     "execution_count": 237,
     "metadata": {},
     "output_type": "execute_result"
    }
   ],
   "source": [
    "# Calculate 'Consumption' total\n",
    "\n",
    "energy_balance_cons_total = energy_balance_df['Consumption'].sum()\n",
    "energy_balance_cons_total"
   ]
  },
  {
   "cell_type": "code",
   "execution_count": 238,
   "id": "81bf7ac0",
   "metadata": {},
   "outputs": [
    {
     "data": {
      "text/plain": [
       "237592.09999999998"
      ]
     },
     "execution_count": 238,
     "metadata": {},
     "output_type": "execute_result"
    }
   ],
   "source": [
    "# Calculate 'Net Exports' total\n",
    "\n",
    "energy_balance_net_exports_total = energy_balance_df['Net Exports'].sum()\n",
    "energy_balance_net_exports_total"
   ]
  },
  {
   "cell_type": "code",
   "execution_count": 239,
   "id": "9f795eb1",
   "metadata": {},
   "outputs": [
    {
     "data": {
      "text/html": [
       "<div>\n",
       "<style scoped>\n",
       "    .dataframe tbody tr th:only-of-type {\n",
       "        vertical-align: middle;\n",
       "    }\n",
       "\n",
       "    .dataframe tbody tr th {\n",
       "        vertical-align: top;\n",
       "    }\n",
       "\n",
       "    .dataframe thead th {\n",
       "        text-align: right;\n",
       "    }\n",
       "</style>\n",
       "<table border=\"1\" class=\"dataframe\">\n",
       "  <thead>\n",
       "    <tr style=\"text-align: right;\">\n",
       "      <th></th>\n",
       "      <th>Year</th>\n",
       "      <th>Production</th>\n",
       "      <th>Consumption</th>\n",
       "      <th>Net Exports</th>\n",
       "      <th>Yearly Total</th>\n",
       "      <th>Production Cumulative</th>\n",
       "      <th>Consumption Cumulative</th>\n",
       "      <th>Net Exports Cumulative</th>\n",
       "    </tr>\n",
       "  </thead>\n",
       "  <tbody>\n",
       "    <tr>\n",
       "      <th>0</th>\n",
       "      <td>1979–80</td>\n",
       "      <td>3802.7</td>\n",
       "      <td>3131.4</td>\n",
       "      <td>803.7</td>\n",
       "      <td>7737.8</td>\n",
       "      <td>3802.7</td>\n",
       "      <td>3131.4</td>\n",
       "      <td>803.7</td>\n",
       "    </tr>\n",
       "    <tr>\n",
       "      <th>1</th>\n",
       "      <td>1980–81</td>\n",
       "      <td>4193.8</td>\n",
       "      <td>3146.3</td>\n",
       "      <td>937.3</td>\n",
       "      <td>8277.4</td>\n",
       "      <td>7996.5</td>\n",
       "      <td>6277.7</td>\n",
       "      <td>1741.0</td>\n",
       "    </tr>\n",
       "    <tr>\n",
       "      <th>2</th>\n",
       "      <td>1981–82</td>\n",
       "      <td>4380.8</td>\n",
       "      <td>3237.6</td>\n",
       "      <td>922.2</td>\n",
       "      <td>8540.6</td>\n",
       "      <td>12377.3</td>\n",
       "      <td>9515.3</td>\n",
       "      <td>2663.2</td>\n",
       "    </tr>\n",
       "    <tr>\n",
       "      <th>3</th>\n",
       "      <td>1982–83</td>\n",
       "      <td>4552.8</td>\n",
       "      <td>3122.7</td>\n",
       "      <td>1208.1</td>\n",
       "      <td>8883.6</td>\n",
       "      <td>16930.1</td>\n",
       "      <td>12638.0</td>\n",
       "      <td>3871.3</td>\n",
       "    </tr>\n",
       "    <tr>\n",
       "      <th>4</th>\n",
       "      <td>1983–84</td>\n",
       "      <td>4911.2</td>\n",
       "      <td>3221.2</td>\n",
       "      <td>1712.1</td>\n",
       "      <td>9844.5</td>\n",
       "      <td>21841.3</td>\n",
       "      <td>15859.2</td>\n",
       "      <td>5583.4</td>\n",
       "    </tr>\n",
       "  </tbody>\n",
       "</table>\n",
       "</div>"
      ],
      "text/plain": [
       "      Year  Production  Consumption  Net Exports  Yearly Total  \\\n",
       "0  1979–80      3802.7       3131.4        803.7        7737.8   \n",
       "1  1980–81      4193.8       3146.3        937.3        8277.4   \n",
       "2  1981–82      4380.8       3237.6        922.2        8540.6   \n",
       "3  1982–83      4552.8       3122.7       1208.1        8883.6   \n",
       "4  1983–84      4911.2       3221.2       1712.1        9844.5   \n",
       "\n",
       "   Production Cumulative  Consumption Cumulative  Net Exports Cumulative  \n",
       "0                 3802.7                  3131.4                   803.7  \n",
       "1                 7996.5                  6277.7                  1741.0  \n",
       "2                12377.3                  9515.3                  2663.2  \n",
       "3                16930.1                 12638.0                  3871.3  \n",
       "4                21841.3                 15859.2                  5583.4  "
      ]
     },
     "execution_count": 239,
     "metadata": {},
     "output_type": "execute_result"
    }
   ],
   "source": [
    "# Calculate cumulative totals and add to DataFrame\n",
    "\n",
    "energy_balance_df['Production Cumulative'] = energy_balance_df['Production'].cumsum()\n",
    "energy_balance_df['Consumption Cumulative'] = energy_balance_df['Consumption'].cumsum()\n",
    "energy_balance_df['Net Exports Cumulative'] = energy_balance_df['Net Exports'].cumsum()\n",
    "energy_balance_df.head()"
   ]
  },
  {
   "cell_type": "code",
   "execution_count": 240,
   "id": "073418de",
   "metadata": {},
   "outputs": [
    {
     "data": {
      "text/plain": [
       "16290"
      ]
     },
     "execution_count": 240,
     "metadata": {},
     "output_type": "execute_result"
    }
   ],
   "source": [
    "# Statistical analysis – exports_balance_df\n",
    "# Calculate 'Amount (PJ)' total\n",
    "\n",
    "exports_amount_total = exports_df['Amount (PJ)'].sum() - 16290\n",
    "exports_amount_total"
   ]
  },
  {
   "cell_type": "code",
   "execution_count": 241,
   "id": "00601af2",
   "metadata": {},
   "outputs": [
    {
     "data": {
      "text/plain": [
       "79134.6"
      ]
     },
     "execution_count": 241,
     "metadata": {},
     "output_type": "execute_result"
    }
   ],
   "source": [
    "# Statistical analysis – fossil_fuels_df\n",
    "# Calculate 'Coal' total\n",
    "\n",
    "fossil_fuels_coal_totals = fossil_fuels_df['Coal'].sum()\n",
    "fossil_fuels_coal_totals"
   ]
  },
  {
   "cell_type": "code",
   "execution_count": 242,
   "id": "8cc9a564",
   "metadata": {},
   "outputs": [
    {
     "data": {
      "text/plain": [
       "79530.6"
      ]
     },
     "execution_count": 242,
     "metadata": {},
     "output_type": "execute_result"
    }
   ],
   "source": [
    "# Calculate 'Oil' total\n",
    "\n",
    "fossil_fuels_coal_totals = fossil_fuels_df['Oil'].sum()\n",
    "fossil_fuels_coal_totals"
   ]
  },
  {
   "cell_type": "code",
   "execution_count": 243,
   "id": "06cadcfc",
   "metadata": {},
   "outputs": [
    {
     "data": {
      "text/plain": [
       "40142.4"
      ]
     },
     "execution_count": 243,
     "metadata": {},
     "output_type": "execute_result"
    }
   ],
   "source": [
    "# Calculate 'Gas' total\n",
    "\n",
    "fossil_fuels_gas_totals = fossil_fuels_df['Gas'].sum()\n",
    "fossil_fuels_gas_totals"
   ]
  },
  {
   "cell_type": "code",
   "execution_count": 244,
   "id": "700c1662",
   "metadata": {},
   "outputs": [
    {
     "data": {
      "text/plain": [
       "12223.900000000003"
      ]
     },
     "execution_count": 244,
     "metadata": {},
     "output_type": "execute_result"
    }
   ],
   "source": [
    "# Calculate 'Renewables' total\n",
    "\n",
    "fossil_fuels_renewables_totals = fossil_fuels_df['Renewables'].sum()\n",
    "fossil_fuels_renewables_totals"
   ]
  },
  {
   "cell_type": "code",
   "execution_count": 245,
   "id": "76f3e396",
   "metadata": {},
   "outputs": [
    {
     "data": {
      "text/html": [
       "<div>\n",
       "<style scoped>\n",
       "    .dataframe tbody tr th:only-of-type {\n",
       "        vertical-align: middle;\n",
       "    }\n",
       "\n",
       "    .dataframe tbody tr th {\n",
       "        vertical-align: top;\n",
       "    }\n",
       "\n",
       "    .dataframe thead th {\n",
       "        text-align: right;\n",
       "    }\n",
       "</style>\n",
       "<table border=\"1\" class=\"dataframe\">\n",
       "  <thead>\n",
       "    <tr style=\"text-align: right;\">\n",
       "      <th></th>\n",
       "      <th>Year</th>\n",
       "      <th>Coal</th>\n",
       "      <th>Oil</th>\n",
       "      <th>Gas</th>\n",
       "      <th>Renewables</th>\n",
       "      <th>Yearly Totals</th>\n",
       "      <th>Coal Cumulative</th>\n",
       "      <th>Oil Cumulative</th>\n",
       "      <th>Gas Cumulative</th>\n",
       "      <th>Renewables Cumulative</th>\n",
       "    </tr>\n",
       "  </thead>\n",
       "  <tbody>\n",
       "    <tr>\n",
       "      <th>0</th>\n",
       "      <td>1974–75</td>\n",
       "      <td>981.1</td>\n",
       "      <td>1327.7</td>\n",
       "      <td>189.2</td>\n",
       "      <td>204.0</td>\n",
       "      <td>2498.0</td>\n",
       "      <td>981.1</td>\n",
       "      <td>1327.7</td>\n",
       "      <td>189.2</td>\n",
       "      <td>204.0</td>\n",
       "    </tr>\n",
       "    <tr>\n",
       "      <th>1</th>\n",
       "      <td>1975–76</td>\n",
       "      <td>981.2</td>\n",
       "      <td>1339.7</td>\n",
       "      <td>211.2</td>\n",
       "      <td>206.2</td>\n",
       "      <td>2532.1</td>\n",
       "      <td>1962.3</td>\n",
       "      <td>2667.4</td>\n",
       "      <td>400.4</td>\n",
       "      <td>410.2</td>\n",
       "    </tr>\n",
       "    <tr>\n",
       "      <th>2</th>\n",
       "      <td>1976–77</td>\n",
       "      <td>1047.7</td>\n",
       "      <td>1410.6</td>\n",
       "      <td>256.2</td>\n",
       "      <td>199.3</td>\n",
       "      <td>2714.5</td>\n",
       "      <td>3010.0</td>\n",
       "      <td>4078.0</td>\n",
       "      <td>656.6</td>\n",
       "      <td>609.5</td>\n",
       "    </tr>\n",
       "    <tr>\n",
       "      <th>3</th>\n",
       "      <td>1977–78</td>\n",
       "      <td>1070.4</td>\n",
       "      <td>1438.3</td>\n",
       "      <td>283.0</td>\n",
       "      <td>201.2</td>\n",
       "      <td>2791.7</td>\n",
       "      <td>4080.4</td>\n",
       "      <td>5516.3</td>\n",
       "      <td>939.6</td>\n",
       "      <td>810.7</td>\n",
       "    </tr>\n",
       "    <tr>\n",
       "      <th>4</th>\n",
       "      <td>1978–79</td>\n",
       "      <td>1103.0</td>\n",
       "      <td>1440.9</td>\n",
       "      <td>314.9</td>\n",
       "      <td>199.6</td>\n",
       "      <td>2858.8</td>\n",
       "      <td>5183.4</td>\n",
       "      <td>6957.2</td>\n",
       "      <td>1254.5</td>\n",
       "      <td>1010.3</td>\n",
       "    </tr>\n",
       "  </tbody>\n",
       "</table>\n",
       "</div>"
      ],
      "text/plain": [
       "      Year    Coal     Oil    Gas  Renewables  Yearly Totals  Coal Cumulative  \\\n",
       "0  1974–75   981.1  1327.7  189.2       204.0         2498.0            981.1   \n",
       "1  1975–76   981.2  1339.7  211.2       206.2         2532.1           1962.3   \n",
       "2  1976–77  1047.7  1410.6  256.2       199.3         2714.5           3010.0   \n",
       "3  1977–78  1070.4  1438.3  283.0       201.2         2791.7           4080.4   \n",
       "4  1978–79  1103.0  1440.9  314.9       199.6         2858.8           5183.4   \n",
       "\n",
       "   Oil Cumulative  Gas Cumulative  Renewables Cumulative  \n",
       "0          1327.7           189.2                  204.0  \n",
       "1          2667.4           400.4                  410.2  \n",
       "2          4078.0           656.6                  609.5  \n",
       "3          5516.3           939.6                  810.7  \n",
       "4          6957.2          1254.5                 1010.3  "
      ]
     },
     "execution_count": 245,
     "metadata": {},
     "output_type": "execute_result"
    }
   ],
   "source": [
    "# Calculate cumulative totals and add to DataFrame\n",
    "\n",
    "fossil_fuels_df['Coal Cumulative'] = fossil_fuels_df['Coal'].cumsum()\n",
    "fossil_fuels_df['Oil Cumulative'] = fossil_fuels_df['Oil'].cumsum()\n",
    "fossil_fuels_df['Gas Cumulative'] = fossil_fuels_df['Gas'].cumsum()\n",
    "fossil_fuels_df['Renewables Cumulative'] = fossil_fuels_df['Renewables'].cumsum()\n",
    "fossil_fuels_df.head()"
   ]
  },
  {
   "cell_type": "code",
   "execution_count": 246,
   "id": "620014ab",
   "metadata": {},
   "outputs": [
    {
     "data": {
      "text/plain": [
       "4488"
      ]
     },
     "execution_count": 246,
     "metadata": {},
     "output_type": "execute_result"
    }
   ],
   "source": [
    "# Statistical analysis – imports_balance_df\n",
    "# Calculate 'Amount (PJ)' total\n",
    "\n",
    "imports_amount_total = imports_df['Amount (PJ)'].sum()\n",
    "imports_amount_total"
   ]
  },
  {
   "cell_type": "code",
   "execution_count": 247,
   "id": "29817bbf",
   "metadata": {},
   "outputs": [
    {
     "data": {
      "text/plain": [
       "407046"
      ]
     },
     "execution_count": 247,
     "metadata": {},
     "output_type": "execute_result"
    }
   ],
   "source": [
    "# Statistical analysis – renewables_balance_df\n",
    "# Calculate 'Hydro' total\n",
    "\n",
    "renewables_hydro_total = renewables_df['Hydro'].sum()\n",
    "renewables_hydro_total"
   ]
  },
  {
   "cell_type": "code",
   "execution_count": 248,
   "id": "980074b4",
   "metadata": {},
   "outputs": [
    {
     "data": {
      "text/plain": [
       "140088"
      ]
     },
     "execution_count": 248,
     "metadata": {},
     "output_type": "execute_result"
    }
   ],
   "source": [
    "# Calculate 'Wind' total\n",
    "\n",
    "renewables_wind_total = renewables_df['Wind'].sum()\n",
    "renewables_wind_total"
   ]
  },
  {
   "cell_type": "code",
   "execution_count": 249,
   "id": "0a978424",
   "metadata": {},
   "outputs": [
    {
     "data": {
      "text/plain": [
       "65791"
      ]
     },
     "execution_count": 249,
     "metadata": {},
     "output_type": "execute_result"
    }
   ],
   "source": [
    "# Calculate 'Bioenergy' total\n",
    "\n",
    "renewables_bioenergy_total = renewables_df['Bioenergy'].sum()\n",
    "renewables_bioenergy_total"
   ]
  },
  {
   "cell_type": "code",
   "execution_count": 250,
   "id": "e0adc39f",
   "metadata": {},
   "outputs": [
    {
     "data": {
      "text/plain": [
       "79988"
      ]
     },
     "execution_count": 250,
     "metadata": {},
     "output_type": "execute_result"
    }
   ],
   "source": [
    "# Calculate 'Solar' total\n",
    "\n",
    "renewables_solar_total = renewables_df['Solar'].sum()\n",
    "renewables_solar_total"
   ]
  },
  {
   "cell_type": "code",
   "execution_count": 251,
   "id": "0bc1ca2b",
   "metadata": {},
   "outputs": [
    {
     "data": {
      "text/html": [
       "<div>\n",
       "<style scoped>\n",
       "    .dataframe tbody tr th:only-of-type {\n",
       "        vertical-align: middle;\n",
       "    }\n",
       "\n",
       "    .dataframe tbody tr th {\n",
       "        vertical-align: top;\n",
       "    }\n",
       "\n",
       "    .dataframe thead th {\n",
       "        text-align: right;\n",
       "    }\n",
       "</style>\n",
       "<table border=\"1\" class=\"dataframe\">\n",
       "  <thead>\n",
       "    <tr style=\"text-align: right;\">\n",
       "      <th></th>\n",
       "      <th>Year</th>\n",
       "      <th>Hydro</th>\n",
       "      <th>Wind</th>\n",
       "      <th>Bioenergy</th>\n",
       "      <th>Solar</th>\n",
       "      <th>Yearly Totals</th>\n",
       "      <th>Hydro Cumulative</th>\n",
       "      <th>Wind Cumulative</th>\n",
       "      <th>Bioenergy Cumulative</th>\n",
       "      <th>Solar Cumulative</th>\n",
       "    </tr>\n",
       "  </thead>\n",
       "  <tbody>\n",
       "    <tr>\n",
       "      <th>0</th>\n",
       "      <td>1994–95</td>\n",
       "      <td>16239</td>\n",
       "      <td>7</td>\n",
       "      <td>723</td>\n",
       "      <td>19</td>\n",
       "      <td>16969</td>\n",
       "      <td>16239</td>\n",
       "      <td>7</td>\n",
       "      <td>723</td>\n",
       "      <td>19</td>\n",
       "    </tr>\n",
       "    <tr>\n",
       "      <th>1</th>\n",
       "      <td>1995–96</td>\n",
       "      <td>15731</td>\n",
       "      <td>7</td>\n",
       "      <td>928</td>\n",
       "      <td>23</td>\n",
       "      <td>16666</td>\n",
       "      <td>31970</td>\n",
       "      <td>14</td>\n",
       "      <td>1651</td>\n",
       "      <td>42</td>\n",
       "    </tr>\n",
       "    <tr>\n",
       "      <th>2</th>\n",
       "      <td>1996–97</td>\n",
       "      <td>16852</td>\n",
       "      <td>7</td>\n",
       "      <td>965</td>\n",
       "      <td>28</td>\n",
       "      <td>17824</td>\n",
       "      <td>48822</td>\n",
       "      <td>21</td>\n",
       "      <td>2616</td>\n",
       "      <td>70</td>\n",
       "    </tr>\n",
       "    <tr>\n",
       "      <th>3</th>\n",
       "      <td>1997–98</td>\n",
       "      <td>15733</td>\n",
       "      <td>8</td>\n",
       "      <td>1029</td>\n",
       "      <td>34</td>\n",
       "      <td>16770</td>\n",
       "      <td>64555</td>\n",
       "      <td>29</td>\n",
       "      <td>3645</td>\n",
       "      <td>104</td>\n",
       "    </tr>\n",
       "    <tr>\n",
       "      <th>4</th>\n",
       "      <td>1998–99</td>\n",
       "      <td>16563</td>\n",
       "      <td>28</td>\n",
       "      <td>1133</td>\n",
       "      <td>38</td>\n",
       "      <td>17724</td>\n",
       "      <td>81118</td>\n",
       "      <td>57</td>\n",
       "      <td>4778</td>\n",
       "      <td>142</td>\n",
       "    </tr>\n",
       "  </tbody>\n",
       "</table>\n",
       "</div>"
      ],
      "text/plain": [
       "      Year  Hydro  Wind  Bioenergy  Solar  Yearly Totals  Hydro Cumulative  \\\n",
       "0  1994–95  16239     7        723     19          16969             16239   \n",
       "1  1995–96  15731     7        928     23          16666             31970   \n",
       "2  1996–97  16852     7        965     28          17824             48822   \n",
       "3  1997–98  15733     8       1029     34          16770             64555   \n",
       "4  1998–99  16563    28       1133     38          17724             81118   \n",
       "\n",
       "   Wind Cumulative  Bioenergy Cumulative  Solar Cumulative  \n",
       "0                7                   723                19  \n",
       "1               14                  1651                42  \n",
       "2               21                  2616                70  \n",
       "3               29                  3645               104  \n",
       "4               57                  4778               142  "
      ]
     },
     "execution_count": 251,
     "metadata": {},
     "output_type": "execute_result"
    }
   ],
   "source": [
    "# Calculate cumulative totals and add to DataFrame\n",
    "\n",
    "renewables_df['Hydro Cumulative'] = renewables_df['Hydro'].cumsum()\n",
    "renewables_df['Wind Cumulative'] = renewables_df['Wind'].cumsum()\n",
    "renewables_df['Bioenergy Cumulative'] = renewables_df['Bioenergy'].cumsum()\n",
    "renewables_df['Solar Cumulative'] = renewables_df['Solar'].cumsum()\n",
    "renewables_df.head()"
   ]
  },
  {
   "cell_type": "code",
   "execution_count": 252,
   "id": "a8bec911",
   "metadata": {},
   "outputs": [
    {
     "data": {
      "text/html": [
       "<div>\n",
       "<style scoped>\n",
       "    .dataframe tbody tr th:only-of-type {\n",
       "        vertical-align: middle;\n",
       "    }\n",
       "\n",
       "    .dataframe tbody tr th {\n",
       "        vertical-align: top;\n",
       "    }\n",
       "\n",
       "    .dataframe thead th {\n",
       "        text-align: right;\n",
       "    }\n",
       "</style>\n",
       "<table border=\"1\" class=\"dataframe\">\n",
       "  <thead>\n",
       "    <tr style=\"text-align: right;\">\n",
       "      <th></th>\n",
       "      <th>State</th>\n",
       "      <th>Coal</th>\n",
       "      <th>Natural Gas</th>\n",
       "      <th>Oil</th>\n",
       "      <th>Hydro</th>\n",
       "      <th>Other Renewables</th>\n",
       "    </tr>\n",
       "  </thead>\n",
       "  <tbody>\n",
       "    <tr>\n",
       "      <th>0</th>\n",
       "      <td>NSW</td>\n",
       "      <td>75.60%</td>\n",
       "      <td>2.80%</td>\n",
       "      <td>0.50%</td>\n",
       "      <td>3.50%</td>\n",
       "      <td>17.70%</td>\n",
       "    </tr>\n",
       "    <tr>\n",
       "      <th>1</th>\n",
       "      <td>VIC</td>\n",
       "      <td>67.70%</td>\n",
       "      <td>4.50%</td>\n",
       "      <td>0.40%</td>\n",
       "      <td>4.90%</td>\n",
       "      <td>22.50%</td>\n",
       "    </tr>\n",
       "    <tr>\n",
       "      <th>2</th>\n",
       "      <td>QLD</td>\n",
       "      <td>66.50%</td>\n",
       "      <td>16.30%</td>\n",
       "      <td>1.40%</td>\n",
       "      <td>0.90%</td>\n",
       "      <td>14.90%</td>\n",
       "    </tr>\n",
       "    <tr>\n",
       "      <th>3</th>\n",
       "      <td>WA</td>\n",
       "      <td>21.10%</td>\n",
       "      <td>61.70%</td>\n",
       "      <td>5.30%</td>\n",
       "      <td>0.40%</td>\n",
       "      <td>11.50%</td>\n",
       "    </tr>\n",
       "    <tr>\n",
       "      <th>4</th>\n",
       "      <td>SA</td>\n",
       "      <td>0.00%</td>\n",
       "      <td>40.80%</td>\n",
       "      <td>1.00%</td>\n",
       "      <td>0.10%</td>\n",
       "      <td>58.10%</td>\n",
       "    </tr>\n",
       "    <tr>\n",
       "      <th>5</th>\n",
       "      <td>TAS</td>\n",
       "      <td>0.00%</td>\n",
       "      <td>1.70%</td>\n",
       "      <td>0.20%</td>\n",
       "      <td>82.10%</td>\n",
       "      <td>16.00%</td>\n",
       "    </tr>\n",
       "    <tr>\n",
       "      <th>6</th>\n",
       "      <td>NT</td>\n",
       "      <td>0.00%</td>\n",
       "      <td>85.30%</td>\n",
       "      <td>10.00%</td>\n",
       "      <td>0.00%</td>\n",
       "      <td>4.60%</td>\n",
       "    </tr>\n",
       "    <tr>\n",
       "      <th>7</th>\n",
       "      <td>AUS</td>\n",
       "      <td>53.90%</td>\n",
       "      <td>20.00%</td>\n",
       "      <td>1.70%</td>\n",
       "      <td>5.60%</td>\n",
       "      <td>18.80%</td>\n",
       "    </tr>\n",
       "  </tbody>\n",
       "</table>\n",
       "</div>"
      ],
      "text/plain": [
       "  State    Coal Natural Gas     Oil   Hydro Other Renewables\n",
       "0   NSW  75.60%       2.80%   0.50%   3.50%           17.70%\n",
       "1   VIC  67.70%       4.50%   0.40%   4.90%           22.50%\n",
       "2   QLD  66.50%      16.30%   1.40%   0.90%           14.90%\n",
       "3    WA  21.10%      61.70%   5.30%   0.40%           11.50%\n",
       "4    SA   0.00%      40.80%   1.00%   0.10%           58.10%\n",
       "5   TAS   0.00%       1.70%   0.20%  82.10%           16.00%\n",
       "6    NT   0.00%      85.30%  10.00%   0.00%            4.60%\n",
       "7   AUS  53.90%      20.00%   1.70%   5.60%           18.80%"
      ]
     },
     "execution_count": 252,
     "metadata": {},
     "output_type": "execute_result"
    }
   ],
   "source": [
    "# Plot elec_fuel_df (bar graph)\n",
    "# Preview\n",
    "elec_fuel_df"
   ]
  },
  {
   "cell_type": "code",
   "execution_count": 311,
   "id": "14396452",
   "metadata": {},
   "outputs": [
    {
     "data": {
      "image/png": "[encoded data removed]",
      "text/plain": [
       "<Figure size 1500x500 with 1 Axes>"
      ]
     },
     "metadata": {},
     "output_type": "display_data"
    }
   ],
   "source": [
    "# Font families\n",
    "font_1 = {'family':'helvetica','color':'black','size':16}\n",
    "font_2 = {'family':'helvetica','color':'black','size':12}\n",
    "\n",
    "# Data\n",
    "plotdata = pd.DataFrame({\n",
    "    \"Coal\":[75.6, 67.7, 66.5, 21.1, 0, 0, 0, 53.9],\n",
    "    \"Natural Gas\":[2.8, 4.5, 16.3, 61.7, 40.8, 1.7, 85.3, 20.0],\n",
    "    \"Oil\":[0.5, 0.4, 1.4, 5.3, 1.0, 0.2, 10.0, 1.7],\n",
    "    \"Hydro\":[3.5, 4.9, 0.9, 0.4, 0.1, 82.1, 0, 5.6],\n",
    "    \"Other Renewables\":[17.7, 22.5, 14.9, 11.5, 58.1, 16.0, 4.6, 18.8],\n",
    "    }, \n",
    "    index=elec_fuel_df['State'])\n",
    "\n",
    "# Figure\n",
    "plotdata.plot(figsize=(15,5), kind=\"bar\", stacked=True, alpha=0.9,\n",
    "             ).legend(\n",
    "            loc='upper right', ncol=1, title=\"Fuel Type\")\n",
    "\n",
    "plt.title(\"Electricity generation by fuel-type\", fontdict = font_1)\n",
    "plt.xlabel(\"State\", fontdict = font_2)\n",
    "plt.ylabel(\"Percent (%)\", fontdict = font_2)\n",
    "\n",
    "# Style\n",
    "matplotlib.style.use('default')\n",
    "\n",
    "# Grid\n",
    "matplotlib.pyplot.grid(visible=True, which='both', axis='both', color='blue', \n",
    "                       alpha=0.1, linestyle='--', linewidth=1)\n",
    "\n",
    "# Aesthetics\n",
    "plt.gca().spines['top'].set_visible(False)\n",
    "plt.gca().spines['right'].set_visible(False)\n",
    "plt.tight_layout()\n",
    "\n",
    "# Show/save\n",
    "plt.savefig(\"/Users/minoperic/Data Analytics/Data Investigations/australian-energy/Images/elec_gen_fuel_type.png\", \n",
    "            transparent=False, dpi=300)\n",
    "plt.show()"
   ]
  },
  {
   "cell_type": "code",
   "execution_count": null,
   "id": "784822c6",
   "metadata": {},
   "outputs": [],
   "source": []
  }
 ],
 "metadata": {
  "kernelspec": {
   "display_name": "Python 3",
   "language": "python",
   "name": "python3"
  },
  "language_info": {
   "codemirror_mode": {
    "name": "ipython",
    "version": 3
   },
   "file_extension": ".py",
   "mimetype": "text/x-python",
   "name": "python",
   "nbconvert_exporter": "python",
   "pygments_lexer": "ipython3",
   "version": "3.8.8"
  }
 },
 "nbformat": 4,
 "nbformat_minor": 5
}
