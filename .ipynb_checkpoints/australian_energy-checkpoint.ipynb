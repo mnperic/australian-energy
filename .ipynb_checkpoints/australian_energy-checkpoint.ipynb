{
 "cells": [
  {
   "cell_type": "code",
   "execution_count": 57,
   "id": "8ae651b9",
   "metadata": {},
   "outputs": [],
   "source": [
    "# Import dependencies and setup\n",
    "\n",
    "import pandas as pd\n",
    "import matplotlib.pyplot as plt\n",
    "import matplotlib as matplotlib\n",
    "import matplotlib.dates as matplotlibdates\n",
    "import datetime\n",
    "from matplotlib.dates import date2num"
   ]
  },
  {
   "cell_type": "code",
   "execution_count": 58,
   "id": "dc8c7c5d",
   "metadata": {},
   "outputs": [],
   "source": [
    "# Read each dataset and store as DataFrame\n",
    "\n",
    "elec_gen_fuel_type_path = \"Resources/electricity_generation_fuel_type_state_territory.csv\"\n",
    "elec_fuel_df = pd.read_csv(elec_gen_fuel_type_path)\n",
    "\n",
    "elec_gen_sector_path = \"Resources/electricity_generation_sector_state_territory.csv\"\n",
    "elec_sector_df = pd.read_csv(elec_gen_sector_path)\n",
    "\n",
    "energy_balance_path = \"Resources/energy_balance.csv\"\n",
    "energy_balance_df = pd.read_csv(energy_balance_path)\n",
    "\n",
    "energy_CIP_path = \"Resources/energy_consumption_intensity_productivity.csv\"\n",
    "energy_CIP_df = pd.read_csv(energy_CIP_path)\n",
    "\n",
    "energy_usage_path = \"Resources/energy_use_state_territory.csv\"\n",
    "energy_usage_df = pd.read_csv(energy_usage_path)\n",
    "\n",
    "exports_path = \"Resources/exports_2019-2020.csv\"\n",
    "exports_df = pd.read_csv(exports_path)\n",
    "\n",
    "fossil_fuels_path = \"Resources/fossil_fuels.csv\"\n",
    "fossil_fuels_df = pd.read_csv(fossil_fuels_path)\n",
    "\n",
    "imports_path = \"Resources/imports_2019-2020.csv\"\n",
    "imports_df = pd.read_csv(imports_path)\n",
    "\n",
    "renewables_path = \"Resources/renewables.csv\"\n",
    "renewables_df = pd.read_csv(renewables_path)"
   ]
  },
  {
   "cell_type": "code",
   "execution_count": 31,
   "id": "37231af4",
   "metadata": {},
   "outputs": [
    {
     "data": {
      "text/html": [
       "<div>\n",
       "<style scoped>\n",
       "    .dataframe tbody tr th:only-of-type {\n",
       "        vertical-align: middle;\n",
       "    }\n",
       "\n",
       "    .dataframe tbody tr th {\n",
       "        vertical-align: top;\n",
       "    }\n",
       "\n",
       "    .dataframe thead th {\n",
       "        text-align: right;\n",
       "    }\n",
       "</style>\n",
       "<table border=\"1\" class=\"dataframe\">\n",
       "  <thead>\n",
       "    <tr style=\"text-align: right;\">\n",
       "      <th></th>\n",
       "      <th>State</th>\n",
       "      <th>Coal</th>\n",
       "      <th>Natural Gas</th>\n",
       "      <th>Oil</th>\n",
       "      <th>Hydro</th>\n",
       "      <th>Other Renewables</th>\n",
       "    </tr>\n",
       "  </thead>\n",
       "  <tbody>\n",
       "    <tr>\n",
       "      <th>0</th>\n",
       "      <td>NSW</td>\n",
       "      <td>75.60%</td>\n",
       "      <td>2.80%</td>\n",
       "      <td>0.50%</td>\n",
       "      <td>3.50%</td>\n",
       "      <td>17.70%</td>\n",
       "    </tr>\n",
       "    <tr>\n",
       "      <th>1</th>\n",
       "      <td>VIC</td>\n",
       "      <td>67.70%</td>\n",
       "      <td>4.50%</td>\n",
       "      <td>0.40%</td>\n",
       "      <td>4.90%</td>\n",
       "      <td>22.50%</td>\n",
       "    </tr>\n",
       "    <tr>\n",
       "      <th>2</th>\n",
       "      <td>QLD</td>\n",
       "      <td>66.50%</td>\n",
       "      <td>16.30%</td>\n",
       "      <td>1.40%</td>\n",
       "      <td>0.90%</td>\n",
       "      <td>14.90%</td>\n",
       "    </tr>\n",
       "    <tr>\n",
       "      <th>3</th>\n",
       "      <td>WA</td>\n",
       "      <td>21.10%</td>\n",
       "      <td>61.70%</td>\n",
       "      <td>5.30%</td>\n",
       "      <td>0.40%</td>\n",
       "      <td>11.50%</td>\n",
       "    </tr>\n",
       "    <tr>\n",
       "      <th>4</th>\n",
       "      <td>SA</td>\n",
       "      <td>0.00%</td>\n",
       "      <td>40.80%</td>\n",
       "      <td>1.00%</td>\n",
       "      <td>0.10%</td>\n",
       "      <td>58.10%</td>\n",
       "    </tr>\n",
       "  </tbody>\n",
       "</table>\n",
       "</div>"
      ],
      "text/plain": [
       "  State    Coal Natural Gas    Oil  Hydro Other Renewables\n",
       "0   NSW  75.60%       2.80%  0.50%  3.50%           17.70%\n",
       "1   VIC  67.70%       4.50%  0.40%  4.90%           22.50%\n",
       "2   QLD  66.50%      16.30%  1.40%  0.90%           14.90%\n",
       "3    WA  21.10%      61.70%  5.30%  0.40%           11.50%\n",
       "4    SA   0.00%      40.80%  1.00%  0.10%           58.10%"
      ]
     },
     "execution_count": 31,
     "metadata": {},
     "output_type": "execute_result"
    }
   ],
   "source": [
    "# Preview elec_fuel_df\n",
    "\n",
    "elec_fuel_df.head()\n",
    "elec_fuel_df = elec_fuel_df.dropna(axis=1, how='all')\n",
    "elec_fuel_df.head()"
   ]
  },
  {
   "cell_type": "code",
   "execution_count": 33,
   "id": "40af9ce9",
   "metadata": {},
   "outputs": [
    {
     "data": {
      "text/html": [
       "<div>\n",
       "<style scoped>\n",
       "    .dataframe tbody tr th:only-of-type {\n",
       "        vertical-align: middle;\n",
       "    }\n",
       "\n",
       "    .dataframe tbody tr th {\n",
       "        vertical-align: top;\n",
       "    }\n",
       "\n",
       "    .dataframe thead th {\n",
       "        text-align: right;\n",
       "    }\n",
       "</style>\n",
       "<table border=\"1\" class=\"dataframe\">\n",
       "  <thead>\n",
       "    <tr style=\"text-align: right;\">\n",
       "      <th></th>\n",
       "      <th>State</th>\n",
       "      <th>Electricity Sector</th>\n",
       "      <th>Mining and Manufacturing</th>\n",
       "      <th>Other Industries</th>\n",
       "    </tr>\n",
       "  </thead>\n",
       "  <tbody>\n",
       "    <tr>\n",
       "      <th>0</th>\n",
       "      <td>NSW</td>\n",
       "      <td>94%</td>\n",
       "      <td>1%</td>\n",
       "      <td>5%</td>\n",
       "    </tr>\n",
       "    <tr>\n",
       "      <th>1</th>\n",
       "      <td>VIC</td>\n",
       "      <td>92%</td>\n",
       "      <td>2%</td>\n",
       "      <td>6%</td>\n",
       "    </tr>\n",
       "    <tr>\n",
       "      <th>2</th>\n",
       "      <td>QLD</td>\n",
       "      <td>87%</td>\n",
       "      <td>6%</td>\n",
       "      <td>7%</td>\n",
       "    </tr>\n",
       "    <tr>\n",
       "      <th>3</th>\n",
       "      <td>WA</td>\n",
       "      <td>57%</td>\n",
       "      <td>39%</td>\n",
       "      <td>5%</td>\n",
       "    </tr>\n",
       "    <tr>\n",
       "      <th>4</th>\n",
       "      <td>SA</td>\n",
       "      <td>85%</td>\n",
       "      <td>3%</td>\n",
       "      <td>12%</td>\n",
       "    </tr>\n",
       "  </tbody>\n",
       "</table>\n",
       "</div>"
      ],
      "text/plain": [
       "  State Electricity Sector Mining and Manufacturing Other Industries\n",
       "0   NSW                94%                       1%               5%\n",
       "1   VIC                92%                       2%               6%\n",
       "2   QLD                87%                       6%               7%\n",
       "3    WA                57%                      39%               5%\n",
       "4    SA                85%                       3%              12%"
      ]
     },
     "execution_count": 33,
     "metadata": {},
     "output_type": "execute_result"
    }
   ],
   "source": [
    "# Preview elec_sector_df\n",
    "\n",
    "elec_sector_df.head()"
   ]
  },
  {
   "cell_type": "code",
   "execution_count": 55,
   "id": "dee93a27",
   "metadata": {},
   "outputs": [
    {
     "data": {
      "text/html": [
       "<div>\n",
       "<style scoped>\n",
       "    .dataframe tbody tr th:only-of-type {\n",
       "        vertical-align: middle;\n",
       "    }\n",
       "\n",
       "    .dataframe tbody tr th {\n",
       "        vertical-align: top;\n",
       "    }\n",
       "\n",
       "    .dataframe thead th {\n",
       "        text-align: right;\n",
       "    }\n",
       "</style>\n",
       "<table border=\"1\" class=\"dataframe\">\n",
       "  <thead>\n",
       "    <tr style=\"text-align: right;\">\n",
       "      <th></th>\n",
       "      <th>Year</th>\n",
       "      <th>Production</th>\n",
       "      <th>Consumption</th>\n",
       "      <th>Net Exports</th>\n",
       "    </tr>\n",
       "  </thead>\n",
       "  <tbody>\n",
       "    <tr>\n",
       "      <th>0</th>\n",
       "      <td>1979–80</td>\n",
       "      <td>3802.7</td>\n",
       "      <td>3131.4</td>\n",
       "      <td>803.7</td>\n",
       "    </tr>\n",
       "    <tr>\n",
       "      <th>1</th>\n",
       "      <td>1980–81</td>\n",
       "      <td>4193.8</td>\n",
       "      <td>3146.3</td>\n",
       "      <td>937.3</td>\n",
       "    </tr>\n",
       "    <tr>\n",
       "      <th>2</th>\n",
       "      <td>1981–82</td>\n",
       "      <td>4380.8</td>\n",
       "      <td>3237.6</td>\n",
       "      <td>922.2</td>\n",
       "    </tr>\n",
       "    <tr>\n",
       "      <th>3</th>\n",
       "      <td>1982–83</td>\n",
       "      <td>4552.8</td>\n",
       "      <td>3122.7</td>\n",
       "      <td>1208.1</td>\n",
       "    </tr>\n",
       "    <tr>\n",
       "      <th>4</th>\n",
       "      <td>1983–84</td>\n",
       "      <td>4911.2</td>\n",
       "      <td>3221.2</td>\n",
       "      <td>1712.1</td>\n",
       "    </tr>\n",
       "  </tbody>\n",
       "</table>\n",
       "</div>"
      ],
      "text/plain": [
       "      Year  Production  Consumption  Net Exports\n",
       "0  1979–80      3802.7       3131.4        803.7\n",
       "1  1980–81      4193.8       3146.3        937.3\n",
       "2  1981–82      4380.8       3237.6        922.2\n",
       "3  1982–83      4552.8       3122.7       1208.1\n",
       "4  1983–84      4911.2       3221.2       1712.1"
      ]
     },
     "execution_count": 55,
     "metadata": {},
     "output_type": "execute_result"
    }
   ],
   "source": [
    "# Preview energy_balance_df\n",
    "\n",
    "energy_balance_df.head()"
   ]
  },
  {
   "cell_type": "code",
   "execution_count": 35,
   "id": "fba22b01",
   "metadata": {},
   "outputs": [
    {
     "data": {
      "text/html": [
       "<div>\n",
       "<style scoped>\n",
       "    .dataframe tbody tr th:only-of-type {\n",
       "        vertical-align: middle;\n",
       "    }\n",
       "\n",
       "    .dataframe tbody tr th {\n",
       "        vertical-align: top;\n",
       "    }\n",
       "\n",
       "    .dataframe thead th {\n",
       "        text-align: right;\n",
       "    }\n",
       "</style>\n",
       "<table border=\"1\" class=\"dataframe\">\n",
       "  <thead>\n",
       "    <tr style=\"text-align: right;\">\n",
       "      <th></th>\n",
       "      <th>Year</th>\n",
       "      <th>GDP</th>\n",
       "      <th>Energy Consumption</th>\n",
       "      <th>Energy Intensity</th>\n",
       "      <th>Energy Productivity</th>\n",
       "    </tr>\n",
       "  </thead>\n",
       "  <tbody>\n",
       "    <tr>\n",
       "      <th>0</th>\n",
       "      <td>1979–80</td>\n",
       "      <td>100</td>\n",
       "      <td>100</td>\n",
       "      <td>100</td>\n",
       "      <td>100</td>\n",
       "    </tr>\n",
       "    <tr>\n",
       "      <th>1</th>\n",
       "      <td>1980–81</td>\n",
       "      <td>103</td>\n",
       "      <td>101</td>\n",
       "      <td>97</td>\n",
       "      <td>103</td>\n",
       "    </tr>\n",
       "    <tr>\n",
       "      <th>2</th>\n",
       "      <td>1981–82</td>\n",
       "      <td>107</td>\n",
       "      <td>103</td>\n",
       "      <td>97</td>\n",
       "      <td>103</td>\n",
       "    </tr>\n",
       "    <tr>\n",
       "      <th>3</th>\n",
       "      <td>1982–83</td>\n",
       "      <td>104</td>\n",
       "      <td>100</td>\n",
       "      <td>96</td>\n",
       "      <td>105</td>\n",
       "    </tr>\n",
       "    <tr>\n",
       "      <th>4</th>\n",
       "      <td>1983–84</td>\n",
       "      <td>109</td>\n",
       "      <td>103</td>\n",
       "      <td>94</td>\n",
       "      <td>106</td>\n",
       "    </tr>\n",
       "  </tbody>\n",
       "</table>\n",
       "</div>"
      ],
      "text/plain": [
       "      Year  GDP  Energy Consumption  Energy Intensity  Energy Productivity\n",
       "0  1979–80  100                 100               100                  100\n",
       "1  1980–81  103                 101                97                  103\n",
       "2  1981–82  107                 103                97                  103\n",
       "3  1982–83  104                 100                96                  105\n",
       "4  1983–84  109                 103                94                  106"
      ]
     },
     "execution_count": 35,
     "metadata": {},
     "output_type": "execute_result"
    }
   ],
   "source": [
    "# Preview energy_CIP_df\n",
    "\n",
    "energy_CIP_df.head()\n",
    "energy_CIP_df = energy_CIP_df.dropna(axis=1, how='all')\n",
    "energy_CIP_df.head()"
   ]
  },
  {
   "cell_type": "code",
   "execution_count": 37,
   "id": "02cc8ef9",
   "metadata": {},
   "outputs": [
    {
     "data": {
      "text/html": [
       "<div>\n",
       "<style scoped>\n",
       "    .dataframe tbody tr th:only-of-type {\n",
       "        vertical-align: middle;\n",
       "    }\n",
       "\n",
       "    .dataframe tbody tr th {\n",
       "        vertical-align: top;\n",
       "    }\n",
       "\n",
       "    .dataframe thead th {\n",
       "        text-align: right;\n",
       "    }\n",
       "</style>\n",
       "<table border=\"1\" class=\"dataframe\">\n",
       "  <thead>\n",
       "    <tr style=\"text-align: right;\">\n",
       "      <th></th>\n",
       "      <th>Source</th>\n",
       "      <th>Amount (PJ)</th>\n",
       "    </tr>\n",
       "  </thead>\n",
       "  <tbody>\n",
       "    <tr>\n",
       "      <th>0</th>\n",
       "      <td>Coal</td>\n",
       "      <td>11088</td>\n",
       "    </tr>\n",
       "    <tr>\n",
       "      <th>1</th>\n",
       "      <td>Natural gas</td>\n",
       "      <td>4393</td>\n",
       "    </tr>\n",
       "    <tr>\n",
       "      <th>2</th>\n",
       "      <td>Crude oil and ORF</td>\n",
       "      <td>626</td>\n",
       "    </tr>\n",
       "    <tr>\n",
       "      <th>3</th>\n",
       "      <td>LPG</td>\n",
       "      <td>141</td>\n",
       "    </tr>\n",
       "    <tr>\n",
       "      <th>4</th>\n",
       "      <td>Refind products</td>\n",
       "      <td>42</td>\n",
       "    </tr>\n",
       "  </tbody>\n",
       "</table>\n",
       "</div>"
      ],
      "text/plain": [
       "              Source  Amount (PJ)\n",
       "0               Coal        11088\n",
       "1        Natural gas         4393\n",
       "2  Crude oil and ORF          626\n",
       "3                LPG          141\n",
       "4    Refind products           42"
      ]
     },
     "execution_count": 37,
     "metadata": {},
     "output_type": "execute_result"
    }
   ],
   "source": [
    "# Preview exports_df\n",
    "\n",
    "exports_df.head()"
   ]
  },
  {
   "cell_type": "code",
   "execution_count": 38,
   "id": "0e725605",
   "metadata": {},
   "outputs": [
    {
     "data": {
      "text/html": [
       "<div>\n",
       "<style scoped>\n",
       "    .dataframe tbody tr th:only-of-type {\n",
       "        vertical-align: middle;\n",
       "    }\n",
       "\n",
       "    .dataframe tbody tr th {\n",
       "        vertical-align: top;\n",
       "    }\n",
       "\n",
       "    .dataframe thead th {\n",
       "        text-align: right;\n",
       "    }\n",
       "</style>\n",
       "<table border=\"1\" class=\"dataframe\">\n",
       "  <thead>\n",
       "    <tr style=\"text-align: right;\">\n",
       "      <th></th>\n",
       "      <th>Year</th>\n",
       "      <th>Coal</th>\n",
       "      <th>Oil</th>\n",
       "      <th>Gas</th>\n",
       "      <th>Renewables</th>\n",
       "    </tr>\n",
       "  </thead>\n",
       "  <tbody>\n",
       "    <tr>\n",
       "      <th>0</th>\n",
       "      <td>1974–75</td>\n",
       "      <td>981.1</td>\n",
       "      <td>1327.7</td>\n",
       "      <td>189.2</td>\n",
       "      <td>204.0</td>\n",
       "    </tr>\n",
       "    <tr>\n",
       "      <th>1</th>\n",
       "      <td>1975–76</td>\n",
       "      <td>981.2</td>\n",
       "      <td>1339.7</td>\n",
       "      <td>211.2</td>\n",
       "      <td>206.2</td>\n",
       "    </tr>\n",
       "    <tr>\n",
       "      <th>2</th>\n",
       "      <td>1976–77</td>\n",
       "      <td>1047.7</td>\n",
       "      <td>1410.6</td>\n",
       "      <td>256.2</td>\n",
       "      <td>199.3</td>\n",
       "    </tr>\n",
       "    <tr>\n",
       "      <th>3</th>\n",
       "      <td>1977–78</td>\n",
       "      <td>1070.4</td>\n",
       "      <td>1438.3</td>\n",
       "      <td>283.0</td>\n",
       "      <td>201.2</td>\n",
       "    </tr>\n",
       "    <tr>\n",
       "      <th>4</th>\n",
       "      <td>1978–79</td>\n",
       "      <td>1103.0</td>\n",
       "      <td>1440.9</td>\n",
       "      <td>314.9</td>\n",
       "      <td>199.6</td>\n",
       "    </tr>\n",
       "  </tbody>\n",
       "</table>\n",
       "</div>"
      ],
      "text/plain": [
       "      Year    Coal     Oil    Gas  Renewables\n",
       "0  1974–75   981.1  1327.7  189.2       204.0\n",
       "1  1975–76   981.2  1339.7  211.2       206.2\n",
       "2  1976–77  1047.7  1410.6  256.2       199.3\n",
       "3  1977–78  1070.4  1438.3  283.0       201.2\n",
       "4  1978–79  1103.0  1440.9  314.9       199.6"
      ]
     },
     "execution_count": 38,
     "metadata": {},
     "output_type": "execute_result"
    }
   ],
   "source": [
    "# Preview fossil_fuels_df\n",
    "\n",
    "fossil_fuels_df.head()"
   ]
  },
  {
   "cell_type": "code",
   "execution_count": 39,
   "id": "0ecced9c",
   "metadata": {},
   "outputs": [
    {
     "data": {
      "text/html": [
       "<div>\n",
       "<style scoped>\n",
       "    .dataframe tbody tr th:only-of-type {\n",
       "        vertical-align: middle;\n",
       "    }\n",
       "\n",
       "    .dataframe tbody tr th {\n",
       "        vertical-align: top;\n",
       "    }\n",
       "\n",
       "    .dataframe thead th {\n",
       "        text-align: right;\n",
       "    }\n",
       "</style>\n",
       "<table border=\"1\" class=\"dataframe\">\n",
       "  <thead>\n",
       "    <tr style=\"text-align: right;\">\n",
       "      <th></th>\n",
       "      <th>Source</th>\n",
       "      <th>Amount (PJ)</th>\n",
       "    </tr>\n",
       "  </thead>\n",
       "  <tbody>\n",
       "    <tr>\n",
       "      <th>0</th>\n",
       "      <td>Refind products</td>\n",
       "      <td>1328</td>\n",
       "    </tr>\n",
       "    <tr>\n",
       "      <th>1</th>\n",
       "      <td>Crude oil and ORF</td>\n",
       "      <td>696</td>\n",
       "    </tr>\n",
       "    <tr>\n",
       "      <th>2</th>\n",
       "      <td>LPG</td>\n",
       "      <td>21</td>\n",
       "    </tr>\n",
       "    <tr>\n",
       "      <th>3</th>\n",
       "      <td>Natural gas</td>\n",
       "      <td>180</td>\n",
       "    </tr>\n",
       "    <tr>\n",
       "      <th>4</th>\n",
       "      <td>Coal and by-products</td>\n",
       "      <td>19</td>\n",
       "    </tr>\n",
       "  </tbody>\n",
       "</table>\n",
       "</div>"
      ],
      "text/plain": [
       "                 Source  Amount (PJ)\n",
       "0       Refind products         1328\n",
       "1     Crude oil and ORF          696\n",
       "2                   LPG           21\n",
       "3           Natural gas          180\n",
       "4  Coal and by-products           19"
      ]
     },
     "execution_count": 39,
     "metadata": {},
     "output_type": "execute_result"
    }
   ],
   "source": [
    "# Preview imports_df\n",
    "\n",
    "imports_df.head()"
   ]
  },
  {
   "cell_type": "code",
   "execution_count": 40,
   "id": "035cce8b",
   "metadata": {},
   "outputs": [
    {
     "data": {
      "text/html": [
       "<div>\n",
       "<style scoped>\n",
       "    .dataframe tbody tr th:only-of-type {\n",
       "        vertical-align: middle;\n",
       "    }\n",
       "\n",
       "    .dataframe tbody tr th {\n",
       "        vertical-align: top;\n",
       "    }\n",
       "\n",
       "    .dataframe thead th {\n",
       "        text-align: right;\n",
       "    }\n",
       "</style>\n",
       "<table border=\"1\" class=\"dataframe\">\n",
       "  <thead>\n",
       "    <tr style=\"text-align: right;\">\n",
       "      <th></th>\n",
       "      <th>Year</th>\n",
       "      <th>Hydro</th>\n",
       "      <th>Wind</th>\n",
       "      <th>Bioenergy</th>\n",
       "      <th>Solar</th>\n",
       "    </tr>\n",
       "  </thead>\n",
       "  <tbody>\n",
       "    <tr>\n",
       "      <th>0</th>\n",
       "      <td>1994–95</td>\n",
       "      <td>16239</td>\n",
       "      <td>7</td>\n",
       "      <td>723</td>\n",
       "      <td>19</td>\n",
       "    </tr>\n",
       "    <tr>\n",
       "      <th>1</th>\n",
       "      <td>1995–96</td>\n",
       "      <td>15731</td>\n",
       "      <td>7</td>\n",
       "      <td>928</td>\n",
       "      <td>23</td>\n",
       "    </tr>\n",
       "    <tr>\n",
       "      <th>2</th>\n",
       "      <td>1996–97</td>\n",
       "      <td>16852</td>\n",
       "      <td>7</td>\n",
       "      <td>965</td>\n",
       "      <td>28</td>\n",
       "    </tr>\n",
       "    <tr>\n",
       "      <th>3</th>\n",
       "      <td>1997–98</td>\n",
       "      <td>15733</td>\n",
       "      <td>8</td>\n",
       "      <td>1029</td>\n",
       "      <td>34</td>\n",
       "    </tr>\n",
       "    <tr>\n",
       "      <th>4</th>\n",
       "      <td>1998–99</td>\n",
       "      <td>16563</td>\n",
       "      <td>28</td>\n",
       "      <td>1133</td>\n",
       "      <td>38</td>\n",
       "    </tr>\n",
       "  </tbody>\n",
       "</table>\n",
       "</div>"
      ],
      "text/plain": [
       "      Year  Hydro  Wind  Bioenergy  Solar\n",
       "0  1994–95  16239     7        723     19\n",
       "1  1995–96  15731     7        928     23\n",
       "2  1996–97  16852     7        965     28\n",
       "3  1997–98  15733     8       1029     34\n",
       "4  1998–99  16563    28       1133     38"
      ]
     },
     "execution_count": 40,
     "metadata": {},
     "output_type": "execute_result"
    }
   ],
   "source": [
    "# Preview renewables_df\n",
    "\n",
    "renewables_df.head()"
   ]
  },
  {
   "cell_type": "code",
   "execution_count": 60,
   "id": "f9aec949",
   "metadata": {},
   "outputs": [
    {
     "data": {
      "text/plain": [
       "433338.49999999994"
      ]
     },
     "execution_count": 60,
     "metadata": {},
     "output_type": "execute_result"
    }
   ],
   "source": [
    "# Statistical analysis – energy_balance_df\n",
    "# Calculate 'Production' total\n",
    "\n",
    "energy_balance_prod_total = energy_balance_df['Production'].sum()\n",
    "energy_balance_prod_total"
   ]
  },
  {
   "cell_type": "code",
   "execution_count": 61,
   "id": "e6a28933",
   "metadata": {},
   "outputs": [
    {
     "data": {
      "text/plain": [
       "196544.8"
      ]
     },
     "execution_count": 61,
     "metadata": {},
     "output_type": "execute_result"
    }
   ],
   "source": [
    "# Calculate 'Consumption' total\n",
    "\n",
    "energy_balance_cons_total = energy_balance_df['Consumption'].sum()\n",
    "energy_balance_cons_total"
   ]
  },
  {
   "cell_type": "code",
   "execution_count": 62,
   "id": "7ba55c4d",
   "metadata": {},
   "outputs": [
    {
     "data": {
      "text/plain": [
       "237592.09999999998"
      ]
     },
     "execution_count": 62,
     "metadata": {},
     "output_type": "execute_result"
    }
   ],
   "source": [
    "# Calculate 'Net Exports' total\n",
    "\n",
    "energy_balance_net_exports_total = energy_balance_df['Net Exports'].sum()\n",
    "energy_balance_net_exports_total"
   ]
  },
  {
   "cell_type": "code",
   "execution_count": 67,
   "id": "2c9a37a9",
   "metadata": {},
   "outputs": [
    {
     "data": {
      "text/html": [
       "<div>\n",
       "<style scoped>\n",
       "    .dataframe tbody tr th:only-of-type {\n",
       "        vertical-align: middle;\n",
       "    }\n",
       "\n",
       "    .dataframe tbody tr th {\n",
       "        vertical-align: top;\n",
       "    }\n",
       "\n",
       "    .dataframe thead th {\n",
       "        text-align: right;\n",
       "    }\n",
       "</style>\n",
       "<table border=\"1\" class=\"dataframe\">\n",
       "  <thead>\n",
       "    <tr style=\"text-align: right;\">\n",
       "      <th></th>\n",
       "      <th>Year</th>\n",
       "      <th>Production</th>\n",
       "      <th>Consumption</th>\n",
       "      <th>Net Exports</th>\n",
       "      <th>Production Cumulative</th>\n",
       "      <th>Consumption Cumulative</th>\n",
       "      <th>Net Exports Cumulative</th>\n",
       "    </tr>\n",
       "  </thead>\n",
       "  <tbody>\n",
       "    <tr>\n",
       "      <th>0</th>\n",
       "      <td>1979–80</td>\n",
       "      <td>3802.7</td>\n",
       "      <td>3131.4</td>\n",
       "      <td>803.7</td>\n",
       "      <td>3802.7</td>\n",
       "      <td>3131.4</td>\n",
       "      <td>803.7</td>\n",
       "    </tr>\n",
       "    <tr>\n",
       "      <th>1</th>\n",
       "      <td>1980–81</td>\n",
       "      <td>4193.8</td>\n",
       "      <td>3146.3</td>\n",
       "      <td>937.3</td>\n",
       "      <td>7996.5</td>\n",
       "      <td>6277.7</td>\n",
       "      <td>1741.0</td>\n",
       "    </tr>\n",
       "    <tr>\n",
       "      <th>2</th>\n",
       "      <td>1981–82</td>\n",
       "      <td>4380.8</td>\n",
       "      <td>3237.6</td>\n",
       "      <td>922.2</td>\n",
       "      <td>12377.3</td>\n",
       "      <td>9515.3</td>\n",
       "      <td>2663.2</td>\n",
       "    </tr>\n",
       "    <tr>\n",
       "      <th>3</th>\n",
       "      <td>1982–83</td>\n",
       "      <td>4552.8</td>\n",
       "      <td>3122.7</td>\n",
       "      <td>1208.1</td>\n",
       "      <td>16930.1</td>\n",
       "      <td>12638.0</td>\n",
       "      <td>3871.3</td>\n",
       "    </tr>\n",
       "    <tr>\n",
       "      <th>4</th>\n",
       "      <td>1983–84</td>\n",
       "      <td>4911.2</td>\n",
       "      <td>3221.2</td>\n",
       "      <td>1712.1</td>\n",
       "      <td>21841.3</td>\n",
       "      <td>15859.2</td>\n",
       "      <td>5583.4</td>\n",
       "    </tr>\n",
       "  </tbody>\n",
       "</table>\n",
       "</div>"
      ],
      "text/plain": [
       "      Year  Production  Consumption  Net Exports  Production Cumulative  \\\n",
       "0  1979–80      3802.7       3131.4        803.7                 3802.7   \n",
       "1  1980–81      4193.8       3146.3        937.3                 7996.5   \n",
       "2  1981–82      4380.8       3237.6        922.2                12377.3   \n",
       "3  1982–83      4552.8       3122.7       1208.1                16930.1   \n",
       "4  1983–84      4911.2       3221.2       1712.1                21841.3   \n",
       "\n",
       "   Consumption Cumulative  Net Exports Cumulative  \n",
       "0                  3131.4                   803.7  \n",
       "1                  6277.7                  1741.0  \n",
       "2                  9515.3                  2663.2  \n",
       "3                 12638.0                  3871.3  \n",
       "4                 15859.2                  5583.4  "
      ]
     },
     "execution_count": 67,
     "metadata": {},
     "output_type": "execute_result"
    }
   ],
   "source": [
    "# Calculate cumulative totals and add to DataFrame\n",
    "\n",
    "energy_balance_df['Production Cumulative'] = energy_balance_df['Production'].cumsum()\n",
    "energy_balance_df['Consumption Cumulative'] = energy_balance_df['Consumption'].cumsum()\n",
    "energy_balance_df['Net Exports Cumulative'] = energy_balance_df['Net Exports'].cumsum()\n",
    "energy_balance_df.head()"
   ]
  },
  {
   "cell_type": "code",
   "execution_count": 88,
   "id": "5828ffc4",
   "metadata": {},
   "outputs": [
    {
     "data": {
      "text/plain": [
       "16290"
      ]
     },
     "execution_count": 88,
     "metadata": {},
     "output_type": "execute_result"
    }
   ],
   "source": [
    "# Statistical analysis – exports_balance_df\n",
    "# Calculate 'Amount (PJ)' total\n",
    "\n",
    "exports_amount_total = exports_df['Amount (PJ)'].sum() - 16290\n",
    "exports_amount_total"
   ]
  },
  {
   "cell_type": "code",
   "execution_count": 76,
   "id": "4081fedd",
   "metadata": {},
   "outputs": [
    {
     "data": {
      "text/plain": [
       "79134.6"
      ]
     },
     "execution_count": 76,
     "metadata": {},
     "output_type": "execute_result"
    }
   ],
   "source": [
    "# Statistical analysis – fossil_fuels_df\n",
    "# Calculate 'Coal' total\n",
    "\n",
    "fossil_fuels_coal_totals = fossil_fuels_df['Coal'].sum()\n",
    "fossil_fuels_coal_totals"
   ]
  },
  {
   "cell_type": "code",
   "execution_count": 78,
   "id": "1408e6fa",
   "metadata": {},
   "outputs": [
    {
     "data": {
      "text/plain": [
       "79530.6"
      ]
     },
     "execution_count": 78,
     "metadata": {},
     "output_type": "execute_result"
    }
   ],
   "source": [
    "# Calculate 'Oil' total\n",
    "\n",
    "fossil_fuels_coal_totals = fossil_fuels_df['Oil'].sum()\n",
    "fossil_fuels_coal_totals"
   ]
  },
  {
   "cell_type": "code",
   "execution_count": 79,
   "id": "e9a31ddf",
   "metadata": {},
   "outputs": [
    {
     "data": {
      "text/plain": [
       "40142.4"
      ]
     },
     "execution_count": 79,
     "metadata": {},
     "output_type": "execute_result"
    }
   ],
   "source": [
    "# Calculate 'Gas' total\n",
    "\n",
    "fossil_fuels_gas_totals = fossil_fuels_df['Gas'].sum()\n",
    "fossil_fuels_gas_totals"
   ]
  },
  {
   "cell_type": "code",
   "execution_count": 80,
   "id": "8d290503",
   "metadata": {},
   "outputs": [
    {
     "data": {
      "text/plain": [
       "12223.900000000003"
      ]
     },
     "execution_count": 80,
     "metadata": {},
     "output_type": "execute_result"
    }
   ],
   "source": [
    "# Calculate 'Renewables' total\n",
    "\n",
    "fossil_fuels_renewables_totals = fossil_fuels_df['Renewables'].sum()\n",
    "fossil_fuels_renewables_totals"
   ]
  },
  {
   "cell_type": "code",
   "execution_count": 83,
   "id": "c6354b3e",
   "metadata": {},
   "outputs": [
    {
     "data": {
      "text/html": [
       "<div>\n",
       "<style scoped>\n",
       "    .dataframe tbody tr th:only-of-type {\n",
       "        vertical-align: middle;\n",
       "    }\n",
       "\n",
       "    .dataframe tbody tr th {\n",
       "        vertical-align: top;\n",
       "    }\n",
       "\n",
       "    .dataframe thead th {\n",
       "        text-align: right;\n",
       "    }\n",
       "</style>\n",
       "<table border=\"1\" class=\"dataframe\">\n",
       "  <thead>\n",
       "    <tr style=\"text-align: right;\">\n",
       "      <th></th>\n",
       "      <th>Year</th>\n",
       "      <th>Coal</th>\n",
       "      <th>Oil</th>\n",
       "      <th>Gas</th>\n",
       "      <th>Renewables</th>\n",
       "      <th>Coal Cumulative</th>\n",
       "      <th>Oil Cumulative</th>\n",
       "      <th>Gas Cumulative</th>\n",
       "      <th>Renewables Cumulative</th>\n",
       "    </tr>\n",
       "  </thead>\n",
       "  <tbody>\n",
       "    <tr>\n",
       "      <th>0</th>\n",
       "      <td>1974–75</td>\n",
       "      <td>981.1</td>\n",
       "      <td>1327.7</td>\n",
       "      <td>189.2</td>\n",
       "      <td>204.0</td>\n",
       "      <td>981.1</td>\n",
       "      <td>1327.7</td>\n",
       "      <td>189.2</td>\n",
       "      <td>204.0</td>\n",
       "    </tr>\n",
       "    <tr>\n",
       "      <th>1</th>\n",
       "      <td>1975–76</td>\n",
       "      <td>981.2</td>\n",
       "      <td>1339.7</td>\n",
       "      <td>211.2</td>\n",
       "      <td>206.2</td>\n",
       "      <td>1962.3</td>\n",
       "      <td>2667.4</td>\n",
       "      <td>400.4</td>\n",
       "      <td>410.2</td>\n",
       "    </tr>\n",
       "    <tr>\n",
       "      <th>2</th>\n",
       "      <td>1976–77</td>\n",
       "      <td>1047.7</td>\n",
       "      <td>1410.6</td>\n",
       "      <td>256.2</td>\n",
       "      <td>199.3</td>\n",
       "      <td>3010.0</td>\n",
       "      <td>4078.0</td>\n",
       "      <td>656.6</td>\n",
       "      <td>609.5</td>\n",
       "    </tr>\n",
       "    <tr>\n",
       "      <th>3</th>\n",
       "      <td>1977–78</td>\n",
       "      <td>1070.4</td>\n",
       "      <td>1438.3</td>\n",
       "      <td>283.0</td>\n",
       "      <td>201.2</td>\n",
       "      <td>4080.4</td>\n",
       "      <td>5516.3</td>\n",
       "      <td>939.6</td>\n",
       "      <td>810.7</td>\n",
       "    </tr>\n",
       "    <tr>\n",
       "      <th>4</th>\n",
       "      <td>1978–79</td>\n",
       "      <td>1103.0</td>\n",
       "      <td>1440.9</td>\n",
       "      <td>314.9</td>\n",
       "      <td>199.6</td>\n",
       "      <td>5183.4</td>\n",
       "      <td>6957.2</td>\n",
       "      <td>1254.5</td>\n",
       "      <td>1010.3</td>\n",
       "    </tr>\n",
       "  </tbody>\n",
       "</table>\n",
       "</div>"
      ],
      "text/plain": [
       "      Year    Coal     Oil    Gas  Renewables  Coal Cumulative  \\\n",
       "0  1974–75   981.1  1327.7  189.2       204.0            981.1   \n",
       "1  1975–76   981.2  1339.7  211.2       206.2           1962.3   \n",
       "2  1976–77  1047.7  1410.6  256.2       199.3           3010.0   \n",
       "3  1977–78  1070.4  1438.3  283.0       201.2           4080.4   \n",
       "4  1978–79  1103.0  1440.9  314.9       199.6           5183.4   \n",
       "\n",
       "   Oil Cumulative  Gas Cumulative  Renewables Cumulative  \n",
       "0          1327.7           189.2                  204.0  \n",
       "1          2667.4           400.4                  410.2  \n",
       "2          4078.0           656.6                  609.5  \n",
       "3          5516.3           939.6                  810.7  \n",
       "4          6957.2          1254.5                 1010.3  "
      ]
     },
     "execution_count": 83,
     "metadata": {},
     "output_type": "execute_result"
    }
   ],
   "source": [
    "# Calculate cumulative totals and add to DataFrame\n",
    "\n",
    "fossil_fuels_df['Coal Cumulative'] = fossil_fuels_df['Coal'].cumsum()\n",
    "fossil_fuels_df['Oil Cumulative'] = fossil_fuels_df['Oil'].cumsum()\n",
    "fossil_fuels_df['Gas Cumulative'] = fossil_fuels_df['Gas'].cumsum()\n",
    "fossil_fuels_df['Renewables Cumulative'] = fossil_fuels_df['Renewables'].cumsum()\n",
    "fossil_fuels_df.head()"
   ]
  },
  {
   "cell_type": "code",
   "execution_count": 89,
   "id": "6c7e108d",
   "metadata": {},
   "outputs": [
    {
     "data": {
      "text/plain": [
       "4488"
      ]
     },
     "execution_count": 89,
     "metadata": {},
     "output_type": "execute_result"
    }
   ],
   "source": [
    "# Statistical analysis – imports_balance_df\n",
    "# Calculate 'Amount (PJ)' total\n",
    "\n",
    "imports_amount_total = imports_df['Amount (PJ)'].sum()\n",
    "imports_amount_total"
   ]
  },
  {
   "cell_type": "code",
   "execution_count": 90,
   "id": "d1203c70",
   "metadata": {},
   "outputs": [
    {
     "data": {
      "text/plain": [
       "407046"
      ]
     },
     "execution_count": 90,
     "metadata": {},
     "output_type": "execute_result"
    }
   ],
   "source": [
    "# Statistical analysis – renewables_balance_df\n",
    "# Calculate 'Hydro' total\n",
    "\n",
    "renewables_hydro_total = renewables_df['Hydro'].sum()\n",
    "renewables_hydro_total"
   ]
  },
  {
   "cell_type": "code",
   "execution_count": 91,
   "id": "d934c3d2",
   "metadata": {},
   "outputs": [
    {
     "data": {
      "text/plain": [
       "140088"
      ]
     },
     "execution_count": 91,
     "metadata": {},
     "output_type": "execute_result"
    }
   ],
   "source": [
    "# Calculate 'Wind' total\n",
    "\n",
    "renewables_wind_total = renewables_df['Wind'].sum()\n",
    "renewables_wind_total"
   ]
  },
  {
   "cell_type": "code",
   "execution_count": 93,
   "id": "6f0e6d1d",
   "metadata": {},
   "outputs": [
    {
     "data": {
      "text/plain": [
       "65791"
      ]
     },
     "execution_count": 93,
     "metadata": {},
     "output_type": "execute_result"
    }
   ],
   "source": [
    "# Calculate 'Bioenergy' total\n",
    "\n",
    "renewables_bioenergy_total = renewables_df['Bioenergy'].sum()\n",
    "renewables_bioenergy_total"
   ]
  },
  {
   "cell_type": "code",
   "execution_count": 94,
   "id": "5f6a9432",
   "metadata": {},
   "outputs": [
    {
     "data": {
      "text/plain": [
       "79988"
      ]
     },
     "execution_count": 94,
     "metadata": {},
     "output_type": "execute_result"
    }
   ],
   "source": [
    "# Calculate 'Solar' total\n",
    "\n",
    "renewables_solar_total = renewables_df['Solar'].sum()\n",
    "renewables_solar_total"
   ]
  },
  {
   "cell_type": "code",
   "execution_count": null,
   "id": "bf39a1b7",
   "metadata": {},
   "outputs": [],
   "source": []
  }
 ],
 "metadata": {
  "kernelspec": {
   "display_name": "Python 3",
   "language": "python",
   "name": "python3"
  },
  "language_info": {
   "codemirror_mode": {
    "name": "ipython",
    "version": 3
   },
   "file_extension": ".py",
   "mimetype": "text/x-python",
   "name": "python",
   "nbconvert_exporter": "python",
   "pygments_lexer": "ipython3",
   "version": "3.8.8"
  }
 },
 "nbformat": 4,
 "nbformat_minor": 5
}
